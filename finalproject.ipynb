{
  "nbformat": 4,
  "nbformat_minor": 0,
  "metadata": {
    "colab": {
      "provenance": [],
      "authorship_tag": "ABX9TyOvOfV+UXN3shM/CBCTsBd9",
      "include_colab_link": true
    },
    "kernelspec": {
      "name": "python3",
      "display_name": "Python 3"
    },
    "language_info": {
      "name": "python"
    }
  },
  "cells": [
    {
      "cell_type": "markdown",
      "metadata": {
        "id": "view-in-github",
        "colab_type": "text"
      },
      "source": [
        "<a href=\"https://colab.research.google.com/github/wwilson22005/cs130-intro/blob/main/finalproject.ipynb\" target=\"_parent\"><img src=\"https://colab.research.google.com/assets/colab-badge.svg\" alt=\"Open In Colab\"/></a>"
      ]
    },
    {
      "cell_type": "code",
      "execution_count": 16,
      "metadata": {
        "colab": {
          "base_uri": "https://localhost:8080/"
        },
        "id": "a5JevxETMN3t",
        "outputId": "03de7c61-9c5c-4718-ff48-2fc857a7646b"
      },
      "outputs": [
        {
          "output_type": "stream",
          "name": "stdout",
          "text": [
            "ALBANY ++++++++++++++++++++++++++++++++++++++++++++++++++++++++\n",
            "BURGUNDY +++++\n",
            "CAPTAIN +++\n",
            "CORDELIA +++++++++++++++++++++++++++++++\n",
            "CORNWALL +++++++++++++++++++++++++++++++++++++++++++++++++++++++\n",
            "CURAN ++++\n",
            "DOCTOR ++++++++\n",
            "DOCTYPE +\n",
            "EDGAR ++++++++++++++++++++++++++++++++++++++++++++++++++++++++++++++++++++++++++++++++++++++++++++++++++++\n",
            "EDMUND ++++++++++++++++++++++++++++++++++++++++++++++++++++++++++++++++++++++++++++++\n",
            "FOOL ++++++++++++++++++++++++++++++++++++++++++++++++++++++++++\n",
            "GENTLEMAN +++++++++++++++++++++++++++++++++++\n",
            "GLOUCESTER ++++++++++++++++++++++++++++++++++++++++++++++++++++++++++++++++++++++++++++++++++++++++++++++++++++++++++++++++++++++\n",
            "GONERIL +++++++++++++++++++++++++++++++++++++++++++++++++++++\n",
            "HERALD ++++\n",
            "KENT +++++++++++++++++++++++++++++++++++++++++++++++++++++++++++++++++++++++++++++++++++++++++++++++++++++++++++++++++++++++++++++\n",
            "KNIGHT +++++\n",
            "LEAR ++++++++++++++++++++++++++++++++++++++++++++++++++++++++++++++++++++++++++++++++++++++++++++++++++++++++++++++++++++++++++++++++++++++++++++++++++++++++++++++++++++++++++++++++++++++++++++++++++++++++++++++++++++++++++++++++++++++++++++++++++++++++++++++++++++++++++++++++++++++++++++++++++++++++++++++++++++++++++++++++++++++++++++++++++++++++++++++++++++++++++++++++++++++\n",
            "MESSENGER ++++++++\n",
            "OSWALD ++++++++++++++++++++++++++++++++++++++\n",
            "REGAN ++++++++++++++++++++++++++++++++++++++++++++++++++++++++++++++++++++++++\n",
            "SERVANT ++++++++\n"
          ]
        }
      ],
      "source": [
        "import regex as re\n",
        "import urllib.request\n",
        "hand = urllib.request.urlopen('https://www.folger.edu/explore/shakespeares-works/king-lear/read/')\n",
        "def new_list(ls,forbidden_list):\n",
        "  new_list = []\n",
        "  for word in ls:\n",
        "    if word not in forbidden_list:\n",
        "      new_list.append(word)\n",
        "  return new_list\n",
        "forbidden_list =(\"CDATA\",\"FIRST\",\"FRANCE\",\"HTML\",\"KCPZNF\",\"SECOND\",\"SENSE\",\"SMSF\",\"TEIS\",\"THIRD\",\"UCBO\")\n",
        "good_list = new_list(ls,forbidden_list)\n",
        "ls = []\n",
        "for line in hand:\n",
        "    line = line.decode().strip()\n",
        "    lear = re.findall('LEAR', line)\n",
        "    characters = re.findall('[A-Z]+[A-Z]+[A-Z]+[A-Z]', line)\n",
        "    ls = ls + lear + characters\n",
        "\n",
        "def ascii_histogram(seq) -> None:\n",
        "    counted = count_elements(seq)\n",
        "    for key in sorted(counted):\n",
        "        plus_str = '+' * counted[key]\n",
        "        print(f'{key} {plus_str}')\n",
        "def count_elements(seq):\n",
        "    hist = dict()\n",
        "    for date in seq:\n",
        "        hist[date]=hist.get(date,0)+ 1\n",
        "    return hist\n",
        "ascii_histogram(good_list)\n",
        "    #Your code here"
      ]
    }
  ]
}