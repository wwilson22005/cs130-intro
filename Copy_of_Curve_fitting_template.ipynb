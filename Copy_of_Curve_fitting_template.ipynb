{
  "cells": [
    {
      "cell_type": "markdown",
      "metadata": {
        "id": "view-in-github",
        "colab_type": "text"
      },
      "source": [
        "<a href=\"https://colab.research.google.com/github/wwilson22005/cs130-intro/blob/main/Copy_of_Curve_fitting_template.ipynb\" target=\"_parent\"><img src=\"https://colab.research.google.com/assets/colab-badge.svg\" alt=\"Open In Colab\"/></a>"
      ]
    },
    {
      "cell_type": "markdown",
      "metadata": {
        "id": "834t49zymVdO"
      },
      "source": [
        "# Project 3 (Make your own copy of this file)\n",
        "## Curve fitting: Path of a cannonball\n",
        "---\n",
        "First, turn off AI by clicking the gear in the upper right and selecting 'AI assistance.'  Make sure that 'consent to use generative AI features' is turned off. This will make sure that you are using the correct methods of solution and that you are getting the practice you need to be successful on exams.\n",
        "\n",
        "Start by collecting data from here:\n",
        "https://phet.colorado.edu/sims/html/projectile-motion/latest/projectile-motion_all.html\n",
        "For each point, record the time, height, and range in a csv file in Excel or your preferred spreadsheet program. Save your work as cannon.csv"
      ]
    },
    {
      "cell_type": "code",
      "execution_count": 4,
      "metadata": {
        "id": "3wtNHabcbX8N"
      },
      "outputs": [],
      "source": [
        "# Run this first.\n",
        "import numpy as np\n",
        "import matplotlib.pyplot as plt\n",
        "from scipy.stats import norm\n",
        "import scipy\n",
        "from sklearn.model_selection import train_test_split\n"
      ]
    },
    {
      "cell_type": "markdown",
      "source": [
        "We will start by defining our models. I suggest that you have your 'Intro to line fitting' colab document open for reference.\n",
        "\n",
        "- complete the definition of a linear model. It should have both a slope and a y-intercept.\n",
        "\n",
        "- write a second function called quadratic(x, a, b, c) that returns a quadratic function of the form $ax^2 + bx + c$.  Hint: to raise a number to a power in python, use asterisks:    x**2."
      ],
      "metadata": {
        "id": "aMfUDGhbnkME"
      }
    },
    {
      "cell_type": "code",
      "execution_count": 5,
      "metadata": {
        "id": "8ciej3_pbX8T"
      },
      "outputs": [],
      "source": [
        "def linear(x, m, b):\n",
        "    return m*x + b# your code here\n",
        "\n",
        "def quadratic(x, a, b, c):\n",
        "    return a * x**2 + b * x + c # your code here"
      ]
    },
    {
      "cell_type": "markdown",
      "source": [
        "Obtain the data by uploading your .csv file into the folder at left. Use the upload button to find the right document.Then run the following code."
      ],
      "metadata": {
        "id": "4MYalsj8pNBD"
      }
    },
    {
      "cell_type": "code",
      "source": [
        "data = np.loadtxt(\"cannon.csv\", delimiter=\",\", dtype=str)\n",
        "display(data)"
      ],
      "metadata": {
        "id": "CU2dZCrYpWsj",
        "colab": {
          "base_uri": "https://localhost:8080/",
          "height": 231
        },
        "outputId": "f737572d-b07b-4f7c-deb0-3fa24ec15ec0"
      },
      "execution_count": 6,
      "outputs": [
        {
          "output_type": "display_data",
          "data": {
            "text/plain": [
              "array([['', 'Time', 'Range', 'Height', '', '', ''],\n",
              "       ['1', '0.2', '0.99', '2.85', '', '', ''],\n",
              "       ['2', '0.3', '1.48', '4.12', '', '', ''],\n",
              "       ['3', '0.4', '1.98', '5.30', '', '', ''],\n",
              "       ['4', '0.5', '2.47', '6.38', '', '', ''],\n",
              "       ['5', '0.6', '2.97', '7.36', '', '', ''],\n",
              "       ['6', '1.55', '7.67', '11.80', '', '', ''],\n",
              "       ['7', '2.7', '13.35', '5.33', '', '', ''],\n",
              "       ['8', '2.8', '13.84', '4.15', '', '', ''],\n",
              "       ['9', '2.9', '14.34', '2.88', '', '', ''],\n",
              "       ['10', '3.0', '14.83', '1.51', '', '', ''],\n",
              "       ['11', '3.1', '15.33', '0.04', '', '', '']], dtype='<U6')"
            ]
          },
          "metadata": {}
        }
      ]
    },
    {
      "cell_type": "markdown",
      "source": [
        "Create 3 arrays based on this data called t, x, and h. Each will only be one-dimensional, like a list. The array called t should store only the time values in the data, and it should not include the text. I suggest that you define it using array slicing - start at the first actual number (row 1, column 0) and slice the array so that you are keeping only column 0. After slicing, convert the array to be floats instead of strings using .astype(np.float32).\n",
        "\n",
        "Similarly, for x, slice the array to keep only column 1. Again, don't include element 0 since that is text, not a number.\n",
        "\n",
        "For h, slice the array to keep only column 2, and exclude element 0."
      ],
      "metadata": {
        "id": "SwYNaFNareLa"
      }
    },
    {
      "cell_type": "code",
      "source": [
        "t = data[1:, 1].astype(np.float32) # I did this one for you.\n",
        "x = data[1:, 2].astype(np.float32)# you do these ones...\n",
        "h = data[1:, 3].astype(np.float32)"
      ],
      "metadata": {
        "id": "KgYlqU8JrNki"
      },
      "execution_count": 27,
      "outputs": []
    },
    {
      "cell_type": "markdown",
      "source": [
        "With the code below, check that you have included only numbers, not the text at the top of each column."
      ],
      "metadata": {
        "id": "-18LZEjstjsI"
      }
    },
    {
      "cell_type": "code",
      "source": [
        "print(\"t = \", t)\n",
        "print(\"x = \", x)\n",
        "print(\"h = \", h)"
      ],
      "metadata": {
        "id": "KoFG1oXttnkI",
        "colab": {
          "base_uri": "https://localhost:8080/"
        },
        "outputId": "40687258-39fe-4e85-be8c-0bba04b79025"
      },
      "execution_count": 28,
      "outputs": [
        {
          "output_type": "stream",
          "name": "stdout",
          "text": [
            "t =  [0.2  0.3  0.4  0.5  0.6  1.55 2.7  2.8  2.9  3.   3.1 ]\n",
            "x =  [ 0.99  1.48  1.98  2.47  2.97  7.67 13.35 13.84 14.34 14.83 15.33]\n",
            "h =  [ 2.85  4.12  5.3   6.38  7.36 11.8   5.33  4.15  2.88  1.51  0.04]\n"
          ]
        }
      ]
    },
    {
      "cell_type": "markdown",
      "metadata": {
        "id": "XJdAX7USbX8O"
      },
      "source": [
        "## Fitting\n",
        "\n",
        "Check the scatterplot:\n"
      ]
    },
    {
      "cell_type": "code",
      "execution_count": 29,
      "metadata": {
        "id": "KZP1sDypbX8P",
        "colab": {
          "base_uri": "https://localhost:8080/",
          "height": 472
        },
        "outputId": "9b356004-21a7-47c1-d8c3-71d0a9d066a5"
      },
      "outputs": [
        {
          "output_type": "execute_result",
          "data": {
            "text/plain": [
              "Text(0, 0.5, 'x (meters)')"
            ]
          },
          "metadata": {},
          "execution_count": 29
        },
        {
          "output_type": "display_data",
          "data": {
            "text/plain": [
              "<Figure size 640x480 with 1 Axes>"
            ],
            "image/png": "[encoded data removed]"
          },
          "metadata": {}
        }
      ],
      "source": [
        "plt.figure()\n",
        "plt.scatter(t, x)\n",
        "plt.xlabel(\"time (s)\")\n",
        "plt.ylabel(\"x (meters)\")"
      ]
    },
    {
      "cell_type": "markdown",
      "metadata": {
        "id": "CzQP7gtMbX8S"
      },
      "source": [
        "Let's see how we could fit it to a line and extract the best fit parameters.  For fitting in this class, we will start with the \"optimize\" method from the scipy."
      ]
    },
    {
      "cell_type": "code",
      "execution_count": 30,
      "metadata": {
        "id": "mUYT40R1bX8U",
        "colab": {
          "base_uri": "https://localhost:8080/"
        },
        "outputId": "f4593b85-fce9-44d2-a1b3-717b9e9e5ae8"
      },
      "outputs": [
        {
          "output_type": "stream",
          "name": "stdout",
          "text": [
            "x = 4.944 t + 0.001\n"
          ]
        }
      ],
      "source": [
        "params, params_covariance = scipy.optimize.curve_fit(linear, t, x)\n",
        "slope = params[0]\n",
        "intercept = params[1]\n",
        "\n",
        "print('x = {:.3f} t + {:.3f}'.format(slope,intercept)) #equation for a line is y = m x + b\n"
      ]
    },
    {
      "cell_type": "markdown",
      "metadata": {
        "id": "MFopSF2dbX8U"
      },
      "source": [
        "We got the best-fit parameters and put them into the equation for a line.  Let's plot the resulting best fit line on the data and see how it looks."
      ]
    },
    {
      "cell_type": "code",
      "execution_count": 31,
      "metadata": {
        "id": "Rmq_UCwvbX8U",
        "colab": {
          "base_uri": "https://localhost:8080/",
          "height": 467
        },
        "outputId": "6e3e2fab-58d9-42c0-9d04-028fd9bac351"
      },
      "outputs": [
        {
          "output_type": "execute_result",
          "data": {
            "text/plain": [
              "Text(0, 0.5, 'distance in x direction')"
            ]
          },
          "metadata": {},
          "execution_count": 31
        },
        {
          "output_type": "display_data",
          "data": {
            "text/plain": [
              "<Figure size 640x480 with 1 Axes>"
            ],
            "image/png": "[encoded data removed]"
          },
          "metadata": {}
        }
      ],
      "source": [
        "plt.figure()\n",
        "plt.scatter(t, x, label='Data')\n",
        "t2 = np.linspace(0, 10, 100) #want more points - this gives us 100 points\n",
        "plt.plot(t2, linear(t2, slope, intercept),label='Fitted function')\n",
        "plt.legend(loc='best')\n",
        "plt.xlabel(\"time (s)\")\n",
        "plt.ylabel(\"distance in x direction\")"
      ]
    },
    {
      "cell_type": "markdown",
      "metadata": {
        "id": "zaqvrzJVbX8V"
      },
      "source": [
        "## EXERCISE:  \n",
        "In the space below, use the quadratic function that you already defined to fit time and height (instead of range). There will be 3 parameters that come out: a, b, and c. Print out the equation of the curve using .format() as in the sample code provided above. The output should have this form (your numbers will differ):  \n",
        "\n",
        "h = -4.911 t^2 + 17.734 t + 0.001"
      ]
    },
    {
      "cell_type": "code",
      "execution_count": 32,
      "metadata": {
        "id": "PSbyh9ntbX8V",
        "colab": {
          "base_uri": "https://localhost:8080/"
        },
        "outputId": "cf3edd21-99f0-46b3-d52e-d00283e747d9"
      },
      "outputs": [
        {
          "output_type": "stream",
          "name": "stdout",
          "text": [
            "[ 2.8466082   4.122475    5.3002934   6.380064    7.361788   11.798017\n",
            "  5.328906    4.1535788   2.8801944   1.5087727   0.03929788]\n"
          ]
        }
      ],
      "source": [
        "params, params_covariance = scipy.optimize.curve_fit(quadratic, t, h) #your code here\n",
        "a = params[0]\n",
        "b = params[1]\n",
        "c = params[2]\n",
        "\n",
        "print( a * t**2 + b*t +c ) #your code here"
      ]
    },
    {
      "cell_type": "markdown",
      "source": [
        "Now plot the fitted curve. You'll need to change the code to use the quadratic function and graph height vs. time instead of x versus time."
      ],
      "metadata": {
        "id": "dBYakIofxBI2"
      }
    },
    {
      "cell_type": "code",
      "source": [],
      "metadata": {
        "id": "AFF8_yhd1oeg"
      },
      "execution_count": null,
      "outputs": []
    },
    {
      "cell_type": "code",
      "source": [
        "#TODO: modify this code to be appropriate for a quadratic fit.\n",
        "plt.figure()\n",
        "plt.scatter(t, h, label='Data')   #change this\n",
        "t2 = np.linspace(0, 10, 100)\n",
        "plt.plot(t2, quadratic(t2, a, b, c),label='Fitted function') #change this\n",
        "plt.legend(loc='best')\n",
        "plt.xlabel(\"time (s)\")\n",
        "plt.ylabel(\"distance in h direction\") #change this"
      ],
      "metadata": {
        "colab": {
          "base_uri": "https://localhost:8080/",
          "height": 467
        },
        "outputId": "72c3d83e-e435-4d82-83fe-0f6b4e342013",
        "id": "lkWstCj71pqY"
      },
      "execution_count": 34,
      "outputs": [
        {
          "output_type": "execute_result",
          "data": {
            "text/plain": [
              "Text(0, 0.5, 'distance in h direction')"
            ]
          },
          "metadata": {},
          "execution_count": 34
        },
        {
          "output_type": "display_data",
          "data": {
            "text/plain": [
              "<Figure size 640x480 with 1 Axes>"
            ],
            "image/png": "[encoded data removed]"
          },
          "metadata": {}
        }
      ]
    },
    {
      "cell_type": "markdown",
      "source": [
        "## EXERCISE 2:  \n",
        "Go back to the phet simulation, and instead of a cannonball, use the piano option. Turn on 'air resistance.' This should produce a note that says \"Drag Coefficient: 1.20.\" This indicates that a piano experiences a lot of 'drag' from air resistance as it flies through the air. I expect that this will change the shape of its path, and therefore the quadratic fit won't be quite as perfect as before.\n",
        "Repeat the data collection. This time, use piano as your filename and make sure it saves as a csv file again. Without overwriting any of your previous work, redo your analysis with both the x and h fits. Put your code below.\n",
        "\n",
        "This time, rename your t, x, and h variables to be called t_p, x_p, and h_p.  Rename your fit parameters similarly. For example, instead of slope, use slope_p. Instead of b, use b_p."
      ],
      "metadata": {
        "id": "nrPOc8UmhKtW"
      }
    },
    {
      "cell_type": "code",
      "source": [],
      "metadata": {
        "id": "wsc2VAUO2FKI"
      },
      "execution_count": null,
      "outputs": []
    },
    {
      "cell_type": "code",
      "source": [
        "data = mp.loadtxt(\"Piano.csv\", delimeter = \",\",dtype = str)#\n",
        "params, params_covariance = scipy.optimize.curve_fit(quadratic, t_p, h_p) #your code here\n",
        "a_p = params[0]\n",
        "b_p = params[1]\n",
        "c_p = params[2]\n",
        "\n",
        "print( a_p * t_p**2 + b_p*t_p +c_p ) your code here."
      ],
      "metadata": {
        "id": "MGo87lV-zb9M",
        "colab": {
          "base_uri": "https://localhost:8080/",
          "height": 108
        },
        "outputId": "f0d0e4f9-b392-4a9e-98f5-3dd8528e7501"
      },
      "execution_count": 36,
      "outputs": [
        {
          "output_type": "error",
          "ename": "SyntaxError",
          "evalue": "invalid syntax (<ipython-input-36-71c26bdf96c6>, line 7)",
          "traceback": [
            "\u001b[0;36m  File \u001b[0;32m\"<ipython-input-36-71c26bdf96c6>\"\u001b[0;36m, line \u001b[0;32m7\u001b[0m\n\u001b[0;31m    print( a_p * t_p**2 + b_p*t_p +c_p ) your code here.\u001b[0m\n\u001b[0m                                         ^\u001b[0m\n\u001b[0;31mSyntaxError\u001b[0m\u001b[0;31m:\u001b[0m invalid syntax\n"
          ]
        }
      ]
    },
    {
      "cell_type": "code",
      "source": [
        "#TODO: modify this code to be appropriate for a quadratic fit.\n",
        "plt.figure()\n",
        "plt.scatter(t_p, h_p, label='Data')   #change this\n",
        "t2 = np.linspace(0, 10, 100)\n",
        "plt.plot(t2, quadratic(t2, a_p, b_p, c_p),label='Fitted function') #change this\n",
        "plt.legend(loc='best')\n",
        "plt.xlabel(\"time (s)\")\n",
        "plt.ylabel(\"distance in h_p direction\") #change this"
      ],
      "metadata": {
        "id": "LSJHPjYihtk-",
        "colab": {
          "base_uri": "https://localhost:8080/",
          "height": 233
        },
        "outputId": "24c5fdce-42c0-450c-b1e2-a31ba543eb0c"
      },
      "execution_count": 35,
      "outputs": [
        {
          "output_type": "error",
          "ename": "NameError",
          "evalue": "name 't_p' is not defined",
          "traceback": [
            "\u001b[0;31m---------------------------------------------------------------------------\u001b[0m",
            "\u001b[0;31mNameError\u001b[0m                                 Traceback (most recent call last)",
            "\u001b[0;32m<ipython-input-35-f8af819fa3b7>\u001b[0m in \u001b[0;36m<cell line: 3>\u001b[0;34m()\u001b[0m\n\u001b[1;32m      1\u001b[0m \u001b[0;31m#TODO: modify this code to be appropriate for a quadratic fit.\u001b[0m\u001b[0;34m\u001b[0m\u001b[0;34m\u001b[0m\u001b[0m\n\u001b[1;32m      2\u001b[0m \u001b[0mplt\u001b[0m\u001b[0;34m.\u001b[0m\u001b[0mfigure\u001b[0m\u001b[0;34m(\u001b[0m\u001b[0;34m)\u001b[0m\u001b[0;34m\u001b[0m\u001b[0;34m\u001b[0m\u001b[0m\n\u001b[0;32m----> 3\u001b[0;31m \u001b[0mplt\u001b[0m\u001b[0;34m.\u001b[0m\u001b[0mscatter\u001b[0m\u001b[0;34m(\u001b[0m\u001b[0mt_p\u001b[0m\u001b[0;34m,\u001b[0m \u001b[0mh_p\u001b[0m\u001b[0;34m,\u001b[0m \u001b[0mlabel\u001b[0m\u001b[0;34m=\u001b[0m\u001b[0;34m'Data'\u001b[0m\u001b[0;34m)\u001b[0m   \u001b[0;31m#change this\u001b[0m\u001b[0;34m\u001b[0m\u001b[0;34m\u001b[0m\u001b[0m\n\u001b[0m\u001b[1;32m      4\u001b[0m \u001b[0mt2\u001b[0m \u001b[0;34m=\u001b[0m \u001b[0mnp\u001b[0m\u001b[0;34m.\u001b[0m\u001b[0mlinspace\u001b[0m\u001b[0;34m(\u001b[0m\u001b[0;36m0\u001b[0m\u001b[0;34m,\u001b[0m \u001b[0;36m10\u001b[0m\u001b[0;34m,\u001b[0m \u001b[0;36m100\u001b[0m\u001b[0;34m)\u001b[0m\u001b[0;34m\u001b[0m\u001b[0;34m\u001b[0m\u001b[0m\n\u001b[1;32m      5\u001b[0m \u001b[0mplt\u001b[0m\u001b[0;34m.\u001b[0m\u001b[0mplot\u001b[0m\u001b[0;34m(\u001b[0m\u001b[0mt2\u001b[0m\u001b[0;34m,\u001b[0m \u001b[0mquadratic\u001b[0m\u001b[0;34m(\u001b[0m\u001b[0mt2\u001b[0m\u001b[0;34m,\u001b[0m \u001b[0ma_p\u001b[0m\u001b[0;34m,\u001b[0m \u001b[0mb_p\u001b[0m\u001b[0;34m,\u001b[0m \u001b[0mc_p\u001b[0m\u001b[0;34m)\u001b[0m\u001b[0;34m,\u001b[0m\u001b[0mlabel\u001b[0m\u001b[0;34m=\u001b[0m\u001b[0;34m'Fitted function'\u001b[0m\u001b[0;34m)\u001b[0m \u001b[0;31m#change this\u001b[0m\u001b[0;34m\u001b[0m\u001b[0;34m\u001b[0m\u001b[0m\n",
            "\u001b[0;31mNameError\u001b[0m: name 't_p' is not defined"
          ]
        },
        {
          "output_type": "display_data",
          "data": {
            "text/plain": [
              "<Figure size 640x480 with 0 Axes>"
            ]
          },
          "metadata": {}
        }
      ]
    },
    {
      "cell_type": "markdown",
      "source": [
        "After completing your analysis, please comment on how well the quadratic shape fits the height data, and how well the linear fit matches the x data."
      ],
      "metadata": {
        "id": "1z9-Kh8KzWQc"
      }
    },
    {
      "cell_type": "markdown",
      "source": [
        "## EXERCISE 3:  Error analysis\n",
        "\n",
        "Write a function called error() that takes in two lists of data, called fitted_x and actual_x, and calculates the error between the fitted values and actual values. This function will need to do the following things, in order:\n",
        "\n",
        "- subtract actual_x from fitted_x\n",
        "- square the result of the previous step. Remember to use double asterisks. The purpose of squaring is to remove any negatives from the subtraction.\n",
        "- take the average of the result of the previous setp. Use np.average()\n",
        "- return the square root of the result of the previous step. Use np.sqrt()\n",
        "\n",
        "This will produce a single number that will reflect the degree of difference between the actual data and the fitted line or curve, averaging over all the data points."
      ],
      "metadata": {
        "id": "r1VJlHJi1y9D"
      }
    },
    {
      "cell_type": "code",
      "source": [
        "\n",
        "def error(fitted_x, actual_x):\n",
        "\n",
        "  #your stuff goes here\n",
        "  return\n",
        "\n",
        "print(error(np.array([4,6]), np.array([2.9, 3])))\n",
        "#check that your answer comes out to be 2.2594247055390007"
      ],
      "metadata": {
        "id": "4tv6v7Ci2y3a"
      },
      "execution_count": null,
      "outputs": []
    },
    {
      "cell_type": "markdown",
      "source": [
        "Use your error function to compare the errors in the fits for the x data between the cannonball and the piano. Hopefully the piano data and fit parameters have different variable names."
      ],
      "metadata": {
        "id": "EnfX7L2C3aoq"
      }
    },
    {
      "cell_type": "code",
      "source": [
        "# Piano Error (x) - below is some sample code to get you started.\n",
        "\n",
        "\n",
        "x_p_fitted = linear(x_p, slope_p, intercept_p) #sample code for piano\n",
        "#x_actual is just x_p so you don't need to define it\n",
        "error_piano = error(   )#you fill in this part with appropriate inputs for the piano\n",
        "\n",
        "# Cannonball error (x) - your code here"
      ],
      "metadata": {
        "id": "LR4h8U7B4LnR"
      },
      "execution_count": null,
      "outputs": []
    },
    {
      "cell_type": "code",
      "source": [
        "from google.colab import drive\n",
        "drive.mount('/content/drive')"
      ],
      "metadata": {
        "id": "mBuJxjOqcNlA"
      },
      "execution_count": null,
      "outputs": []
    },
    {
      "cell_type": "markdown",
      "source": [
        "Use your error function to compare the errors in the fits for the height data between the cannonball and the piano."
      ],
      "metadata": {
        "id": "kFZhC-HI5W__"
      }
    },
    {
      "cell_type": "code",
      "source": [
        "# now do the height data. Remember that these are both quadratic fits.\n",
        "\n",
        "# Piano Error (h)\n",
        "\n",
        "\n",
        "# Cannonball error (h)"
      ],
      "metadata": {
        "id": "V_7RMxcL5Xh4"
      },
      "execution_count": null,
      "outputs": []
    },
    {
      "cell_type": "markdown",
      "source": [
        "Which tends to have a larger error, the piano or the cannonball?  "
      ],
      "metadata": {
        "id": "jMY_rcIJ5LH5"
      }
    }
  ],
  "metadata": {
    "kernelspec": {
      "display_name": "Python 3",
      "name": "python3"
    },
    "language_info": {
      "codemirror_mode": {
        "name": "ipython",
        "version": 3
      },
      "file_extension": ".py",
      "mimetype": "text/x-python",
      "name": "python",
      "nbconvert_exporter": "python",
      "pygments_lexer": "ipython3",
      "version": "3.10.4"
    },
    "colab": {
      "provenance": [],
      "include_colab_link": true
    }
  },
  "nbformat": 4,
  "nbformat_minor": 0
}